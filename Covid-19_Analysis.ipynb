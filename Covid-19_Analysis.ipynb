{
 "cells": [
  {
   "cell_type": "markdown",
   "id": "d822c218-28ab-4347-9a2d-7f4e9a66f981",
   "metadata": {
    "slideshow": {
     "slide_type": "subslide"
    },
    "tags": []
   },
   "source": [
    "# BIG DATA ANALYSIS"
   ]
  },
  {
   "cell_type": "markdown",
   "id": "8fb347e8-fe8b-49a6-ac65-f993bbb46aba",
   "metadata": {},
   "source": [
    "## Covid 19 ANALYSIS"
   ]
  },
  {
   "cell_type": "markdown",
   "id": "fb1b18fb-9b89-44d7-a8bf-8920b27682be",
   "metadata": {},
   "source": [
    "#### here  This data is available as a CSV file. we are going to analysis this data  through pandas DataFrame."
   ]
  },
  {
   "cell_type": "code",
   "execution_count": 1,
   "id": "b1115c22-4946-4cc4-a42d-308a3dade33f",
   "metadata": {},
   "outputs": [],
   "source": [
    "     import pandas as pd"
   ]
  },
  {
   "cell_type": "code",
   "execution_count": 2,
   "id": "14d3306f-2a4a-4626-8a72-cdb7436ec8e5",
   "metadata": {},
   "outputs": [
    {
     "ename": "FileNotFoundError",
     "evalue": "[Errno 2] No such file or directory: 'E:\\\\data sets\\\\4. covid_19_data.csv'",
     "output_type": "error",
     "traceback": [
      "\u001b[1;31m---------------------------------------------------------------------------\u001b[0m",
      "\u001b[1;31mFileNotFoundError\u001b[0m                         Traceback (most recent call last)",
      "Input \u001b[1;32mIn [2]\u001b[0m, in \u001b[0;36m<module>\u001b[1;34m\u001b[0m\n\u001b[1;32m----> 1\u001b[0m df\u001b[38;5;241m=\u001b[39m\u001b[43mpd\u001b[49m\u001b[38;5;241;43m.\u001b[39;49m\u001b[43mread_csv\u001b[49m\u001b[43m(\u001b[49m\u001b[38;5;124;43mr\u001b[39;49m\u001b[38;5;124;43m'\u001b[39;49m\u001b[38;5;124;43mE:\u001b[39;49m\u001b[38;5;124;43m\\\u001b[39;49m\u001b[38;5;124;43mdata sets\u001b[39;49m\u001b[38;5;124;43m\\\u001b[39;49m\u001b[38;5;124;43m4. covid_19_data.csv\u001b[39;49m\u001b[38;5;124;43m'\u001b[39;49m\u001b[43m)\u001b[49m\n",
      "File \u001b[1;32mc:\\users\\manoj heerani\\appdata\\local\\programs\\python\\python38\\lib\\site-packages\\pandas\\io\\parsers.py:686\u001b[0m, in \u001b[0;36mread_csv\u001b[1;34m(filepath_or_buffer, sep, delimiter, header, names, index_col, usecols, squeeze, prefix, mangle_dupe_cols, dtype, engine, converters, true_values, false_values, skipinitialspace, skiprows, skipfooter, nrows, na_values, keep_default_na, na_filter, verbose, skip_blank_lines, parse_dates, infer_datetime_format, keep_date_col, date_parser, dayfirst, cache_dates, iterator, chunksize, compression, thousands, decimal, lineterminator, quotechar, quoting, doublequote, escapechar, comment, encoding, dialect, error_bad_lines, warn_bad_lines, delim_whitespace, low_memory, memory_map, float_precision)\u001b[0m\n\u001b[0;32m    633\u001b[0m     engine_specified \u001b[38;5;241m=\u001b[39m \u001b[38;5;28;01mFalse\u001b[39;00m\n\u001b[0;32m    635\u001b[0m kwds\u001b[38;5;241m.\u001b[39mupdate(\n\u001b[0;32m    636\u001b[0m     delimiter\u001b[38;5;241m=\u001b[39mdelimiter,\n\u001b[0;32m    637\u001b[0m     engine\u001b[38;5;241m=\u001b[39mengine,\n\u001b[1;32m   (...)\u001b[0m\n\u001b[0;32m    683\u001b[0m     skip_blank_lines\u001b[38;5;241m=\u001b[39mskip_blank_lines,\n\u001b[0;32m    684\u001b[0m )\n\u001b[1;32m--> 686\u001b[0m \u001b[38;5;28;01mreturn\u001b[39;00m \u001b[43m_read\u001b[49m\u001b[43m(\u001b[49m\u001b[43mfilepath_or_buffer\u001b[49m\u001b[43m,\u001b[49m\u001b[43m \u001b[49m\u001b[43mkwds\u001b[49m\u001b[43m)\u001b[49m\n",
      "File \u001b[1;32mc:\\users\\manoj heerani\\appdata\\local\\programs\\python\\python38\\lib\\site-packages\\pandas\\io\\parsers.py:452\u001b[0m, in \u001b[0;36m_read\u001b[1;34m(filepath_or_buffer, kwds)\u001b[0m\n\u001b[0;32m    449\u001b[0m _validate_names(kwds\u001b[38;5;241m.\u001b[39mget(\u001b[38;5;124m\"\u001b[39m\u001b[38;5;124mnames\u001b[39m\u001b[38;5;124m\"\u001b[39m, \u001b[38;5;28;01mNone\u001b[39;00m))\n\u001b[0;32m    451\u001b[0m \u001b[38;5;66;03m# Create the parser.\u001b[39;00m\n\u001b[1;32m--> 452\u001b[0m parser \u001b[38;5;241m=\u001b[39m \u001b[43mTextFileReader\u001b[49m\u001b[43m(\u001b[49m\u001b[43mfp_or_buf\u001b[49m\u001b[43m,\u001b[49m\u001b[43m \u001b[49m\u001b[38;5;241;43m*\u001b[39;49m\u001b[38;5;241;43m*\u001b[39;49m\u001b[43mkwds\u001b[49m\u001b[43m)\u001b[49m\n\u001b[0;32m    454\u001b[0m \u001b[38;5;28;01mif\u001b[39;00m chunksize \u001b[38;5;129;01mor\u001b[39;00m iterator:\n\u001b[0;32m    455\u001b[0m     \u001b[38;5;28;01mreturn\u001b[39;00m parser\n",
      "File \u001b[1;32mc:\\users\\manoj heerani\\appdata\\local\\programs\\python\\python38\\lib\\site-packages\\pandas\\io\\parsers.py:936\u001b[0m, in \u001b[0;36mTextFileReader.__init__\u001b[1;34m(self, f, engine, **kwds)\u001b[0m\n\u001b[0;32m    933\u001b[0m \u001b[38;5;28;01mif\u001b[39;00m \u001b[38;5;124m\"\u001b[39m\u001b[38;5;124mhas_index_names\u001b[39m\u001b[38;5;124m\"\u001b[39m \u001b[38;5;129;01min\u001b[39;00m kwds:\n\u001b[0;32m    934\u001b[0m     \u001b[38;5;28mself\u001b[39m\u001b[38;5;241m.\u001b[39moptions[\u001b[38;5;124m\"\u001b[39m\u001b[38;5;124mhas_index_names\u001b[39m\u001b[38;5;124m\"\u001b[39m] \u001b[38;5;241m=\u001b[39m kwds[\u001b[38;5;124m\"\u001b[39m\u001b[38;5;124mhas_index_names\u001b[39m\u001b[38;5;124m\"\u001b[39m]\n\u001b[1;32m--> 936\u001b[0m \u001b[38;5;28;43mself\u001b[39;49m\u001b[38;5;241;43m.\u001b[39;49m\u001b[43m_make_engine\u001b[49m\u001b[43m(\u001b[49m\u001b[38;5;28;43mself\u001b[39;49m\u001b[38;5;241;43m.\u001b[39;49m\u001b[43mengine\u001b[49m\u001b[43m)\u001b[49m\n",
      "File \u001b[1;32mc:\\users\\manoj heerani\\appdata\\local\\programs\\python\\python38\\lib\\site-packages\\pandas\\io\\parsers.py:1168\u001b[0m, in \u001b[0;36mTextFileReader._make_engine\u001b[1;34m(self, engine)\u001b[0m\n\u001b[0;32m   1166\u001b[0m \u001b[38;5;28;01mdef\u001b[39;00m \u001b[38;5;21m_make_engine\u001b[39m(\u001b[38;5;28mself\u001b[39m, engine\u001b[38;5;241m=\u001b[39m\u001b[38;5;124m\"\u001b[39m\u001b[38;5;124mc\u001b[39m\u001b[38;5;124m\"\u001b[39m):\n\u001b[0;32m   1167\u001b[0m     \u001b[38;5;28;01mif\u001b[39;00m engine \u001b[38;5;241m==\u001b[39m \u001b[38;5;124m\"\u001b[39m\u001b[38;5;124mc\u001b[39m\u001b[38;5;124m\"\u001b[39m:\n\u001b[1;32m-> 1168\u001b[0m         \u001b[38;5;28mself\u001b[39m\u001b[38;5;241m.\u001b[39m_engine \u001b[38;5;241m=\u001b[39m \u001b[43mCParserWrapper\u001b[49m\u001b[43m(\u001b[49m\u001b[38;5;28;43mself\u001b[39;49m\u001b[38;5;241;43m.\u001b[39;49m\u001b[43mf\u001b[49m\u001b[43m,\u001b[49m\u001b[43m \u001b[49m\u001b[38;5;241;43m*\u001b[39;49m\u001b[38;5;241;43m*\u001b[39;49m\u001b[38;5;28;43mself\u001b[39;49m\u001b[38;5;241;43m.\u001b[39;49m\u001b[43moptions\u001b[49m\u001b[43m)\u001b[49m\n\u001b[0;32m   1169\u001b[0m     \u001b[38;5;28;01melse\u001b[39;00m:\n\u001b[0;32m   1170\u001b[0m         \u001b[38;5;28;01mif\u001b[39;00m engine \u001b[38;5;241m==\u001b[39m \u001b[38;5;124m\"\u001b[39m\u001b[38;5;124mpython\u001b[39m\u001b[38;5;124m\"\u001b[39m:\n",
      "File \u001b[1;32mc:\\users\\manoj heerani\\appdata\\local\\programs\\python\\python38\\lib\\site-packages\\pandas\\io\\parsers.py:1998\u001b[0m, in \u001b[0;36mCParserWrapper.__init__\u001b[1;34m(self, src, **kwds)\u001b[0m\n\u001b[0;32m   1995\u001b[0m \u001b[38;5;28mself\u001b[39m\u001b[38;5;241m.\u001b[39musecols, \u001b[38;5;28mself\u001b[39m\u001b[38;5;241m.\u001b[39musecols_dtype \u001b[38;5;241m=\u001b[39m _validate_usecols_arg(kwds[\u001b[38;5;124m\"\u001b[39m\u001b[38;5;124musecols\u001b[39m\u001b[38;5;124m\"\u001b[39m])\n\u001b[0;32m   1996\u001b[0m kwds[\u001b[38;5;124m\"\u001b[39m\u001b[38;5;124musecols\u001b[39m\u001b[38;5;124m\"\u001b[39m] \u001b[38;5;241m=\u001b[39m \u001b[38;5;28mself\u001b[39m\u001b[38;5;241m.\u001b[39musecols\n\u001b[1;32m-> 1998\u001b[0m \u001b[38;5;28mself\u001b[39m\u001b[38;5;241m.\u001b[39m_reader \u001b[38;5;241m=\u001b[39m \u001b[43mparsers\u001b[49m\u001b[38;5;241;43m.\u001b[39;49m\u001b[43mTextReader\u001b[49m\u001b[43m(\u001b[49m\u001b[43msrc\u001b[49m\u001b[43m,\u001b[49m\u001b[43m \u001b[49m\u001b[38;5;241;43m*\u001b[39;49m\u001b[38;5;241;43m*\u001b[39;49m\u001b[43mkwds\u001b[49m\u001b[43m)\u001b[49m\n\u001b[0;32m   1999\u001b[0m \u001b[38;5;28mself\u001b[39m\u001b[38;5;241m.\u001b[39munnamed_cols \u001b[38;5;241m=\u001b[39m \u001b[38;5;28mself\u001b[39m\u001b[38;5;241m.\u001b[39m_reader\u001b[38;5;241m.\u001b[39munnamed_cols\n\u001b[0;32m   2001\u001b[0m passed_names \u001b[38;5;241m=\u001b[39m \u001b[38;5;28mself\u001b[39m\u001b[38;5;241m.\u001b[39mnames \u001b[38;5;129;01mis\u001b[39;00m \u001b[38;5;28;01mNone\u001b[39;00m\n",
      "File \u001b[1;32mpandas\\_libs\\parsers.pyx:382\u001b[0m, in \u001b[0;36mpandas._libs.parsers.TextReader.__cinit__\u001b[1;34m()\u001b[0m\n",
      "File \u001b[1;32mpandas\\_libs\\parsers.pyx:674\u001b[0m, in \u001b[0;36mpandas._libs.parsers.TextReader._setup_parser_source\u001b[1;34m()\u001b[0m\n",
      "\u001b[1;31mFileNotFoundError\u001b[0m: [Errno 2] No such file or directory: 'E:\\\\data sets\\\\4. covid_19_data.csv'"
     ]
    }
   ],
   "source": [
    "df=pd.read_csv(r'E:\\data sets\\4. covid_19_data.csv')"
   ]
  },
  {
   "cell_type": "markdown",
   "id": "c402bbcb-c96d-40a9-b741-93cc170de7ac",
   "metadata": {},
   "source": [
    "### Data Cleaning"
   ]
  },
  {
   "cell_type": "markdown",
   "id": "d4ba3ce6-e8d2-4cf9-8e3e-9a831f48021f",
   "metadata": {},
   "source": [
    "# Analysis the data set of COVID"
   ]
  },
  {
   "cell_type": "code",
   "execution_count": null,
   "id": "38a56a93-7b1b-4e68-9d3d-02af6dfcb19f",
   "metadata": {},
   "outputs": [],
   "source": [
    "df.head(1)"
   ]
  },
  {
   "cell_type": "code",
   "execution_count": null,
   "id": "b0a68a33-8742-47d2-b2b7-4fa5d26eafc5",
   "metadata": {},
   "outputs": [],
   "source": [
    "df.shape"
   ]
  },
  {
   "cell_type": "code",
   "execution_count": null,
   "id": "9976db7b-3a7b-4b76-8ece-35f040ab3b06",
   "metadata": {},
   "outputs": [],
   "source": [
    "By Index Attribute provide the index of dataset"
   ]
  },
  {
   "cell_type": "code",
   "execution_count": null,
   "id": "8baf54a9-e143-4919-90a1-486f48aab8ae",
   "metadata": {},
   "outputs": [],
   "source": [
    "df.index"
   ]
  },
  {
   "cell_type": "markdown",
   "id": "7a96c93d-9034-4351-94c0-9332eddda18d",
   "metadata": {},
   "source": [
    "'dtypes' it show data type of each coloum"
   ]
  },
  {
   "cell_type": "code",
   "execution_count": null,
   "id": "911faec1-12ff-4927-94ea-ecc2ac2b2d8e",
   "metadata": {},
   "outputs": [],
   "source": [
    "df.dtypes"
   ]
  },
  {
   "cell_type": "code",
   "execution_count": null,
   "id": "7d8854e2-0381-493d-b8d4-fd79910f2d8d",
   "metadata": {},
   "outputs": [],
   "source": [
    "df.nunique()"
   ]
  },
  {
   "cell_type": "code",
   "execution_count": null,
   "id": "e4a96218-af22-4071-ae87-2e32d4a1b88e",
   "metadata": {},
   "outputs": [],
   "source": [
    "df.info()"
   ]
  },
  {
   "cell_type": "markdown",
   "id": "da3ac264-b89d-49f6-b009-ab37339bc276",
   "metadata": {},
   "source": [
    "# Delete the Coloumn in which have null value"
   ]
  },
  {
   "cell_type": "code",
   "execution_count": null,
   "id": "7fcc10c8-bd9f-4201-9255-07a6901c9710",
   "metadata": {},
   "outputs": [],
   "source": [
    "df.head(2)"
   ]
  },
  {
   "cell_type": "code",
   "execution_count": null,
   "id": "a1e10c1a-d1a0-44d8-a292-120fc9f3d6c6",
   "metadata": {},
   "outputs": [],
   "source": [
    "df.isnull().sum()"
   ]
  },
  {
   "cell_type": "markdown",
   "id": "f56ab1c3-c9f1-43c9-9159-529c5459f1db",
   "metadata": {},
   "source": [
    "#### import some libraries for visualization of data"
   ]
  },
  {
   "cell_type": "code",
   "execution_count": null,
   "id": "615929b5-34c1-498e-9815-4e1ec3662a84",
   "metadata": {},
   "outputs": [],
   "source": [
    "import seaborn as sns"
   ]
  },
  {
   "cell_type": "code",
   "execution_count": null,
   "id": "5e738b1c-9429-40dc-a76b-f52dcc33f09e",
   "metadata": {},
   "outputs": [],
   "source": [
    "import matplotlib.pyplot as plt"
   ]
  },
  {
   "cell_type": "code",
   "execution_count": null,
   "id": "43994fff-6fdb-4dbc-bdc2-61802596b011",
   "metadata": {},
   "outputs": [],
   "source": [
    "sns.heatmap(df.isnull())\n",
    "plt.show()"
   ]
  },
  {
   "cell_type": "markdown",
   "id": "238245b7-50a8-482e-ba84-5265c6354b57",
   "metadata": {},
   "source": [
    "### show the number of confirmed death recover cases in each region"
   ]
  },
  {
   "cell_type": "code",
   "execution_count": null,
   "id": "ce4fb758-1ee5-4ba6-98bb-fc7ae01dad00",
   "metadata": {},
   "outputs": [],
   "source": [
    "df.head(2)"
   ]
  },
  {
   "cell_type": "code",
   "execution_count": null,
   "id": "dbf397d9-555c-4b29-8ecc-317f1e84fcd9",
   "metadata": {},
   "outputs": [],
   "source": [
    "##df.groupby('Region').sum()\n",
    "sns.heatmap(df.groupby('Region').sum())"
   ]
  },
  {
   "cell_type": "markdown",
   "id": "4d0bd218-e550-4ac5-b348-689d03e45994",
   "metadata": {},
   "source": [
    "#### Remove all the record where conformed cases less than 10"
   ]
  },
  {
   "cell_type": "code",
   "execution_count": null,
   "id": "5d0c3ac2-5aba-44e4-ab33-7d123fa3a306",
   "metadata": {},
   "outputs": [],
   "source": [
    "df.head(2)"
   ]
  },
  {
   "cell_type": "code",
   "execution_count": null,
   "id": "bc3cee9d-2312-4d27-a5c8-5a8bf9c2f88d",
   "metadata": {},
   "outputs": [],
   "source": [
    "df[df.Confirmed<10]"
   ]
  },
  {
   "cell_type": "code",
   "execution_count": null,
   "id": "ad91582a-a742-4ae1-93d2-574ad8f0e48c",
   "metadata": {},
   "outputs": [],
   "source": [
    "df=df[~(df.Confirmed<10)]"
   ]
  },
  {
   "cell_type": "markdown",
   "id": "c6e7fefb-9a6c-49c3-8287-af32fafc0a2a",
   "metadata": {},
   "source": [
    "#### after delete all value in which confirmed cases is less than 10"
   ]
  },
  {
   "cell_type": "code",
   "execution_count": null,
   "id": "85ca9785-98ab-4ae6-ba34-292b550006b9",
   "metadata": {},
   "outputs": [],
   "source": [
    "df"
   ]
  },
  {
   "cell_type": "markdown",
   "id": "e93d813c-a7be-47a8-b6cf-05b161513dd4",
   "metadata": {
    "tags": []
   },
   "source": [
    "#### in which region maximum number of confirmed cases is recoverd"
   ]
  },
  {
   "cell_type": "code",
   "execution_count": null,
   "id": "26af2231-d626-45bd-a320-7d5448514880",
   "metadata": {},
   "outputs": [],
   "source": [
    "df.head(1)"
   ]
  },
  {
   "cell_type": "code",
   "execution_count": null,
   "id": "2dbc9f5c-9933-4196-887a-174f0b98b4ad",
   "metadata": {},
   "outputs": [],
   "source": [
    "df.groupby('Region').Confirmed.sum().sort_values(ascending = False).head(10)"
   ]
  },
  {
   "cell_type": "markdown",
   "id": "96b13f15-9762-4c15-bf1f-a6da767b3ee0",
   "metadata": {},
   "source": [
    "#### how many conformed,death and recoverded cases are recorded from pakistan till 29 april 2020\n"
   ]
  },
  {
   "cell_type": "code",
   "execution_count": null,
   "id": "afad20cd-9d00-43ba-8a0b-14e75af58365",
   "metadata": {},
   "outputs": [],
   "source": [
    "df[df.Region=='Pakistan'].sum()"
   ]
  },
  {
   "cell_type": "markdown",
   "id": "8bc5a92c-f0a1-4e97-aaf4-9380ec085459",
   "metadata": {},
   "source": [
    "## sort the all data wrt no of confirmed cases in ascending order"
   ]
  },
  {
   "cell_type": "code",
   "execution_count": null,
   "id": "9ec636b9-bc78-434a-adb3-430374b2154f",
   "metadata": {},
   "outputs": [],
   "source": [
    "df.head(1)"
   ]
  },
  {
   "cell_type": "code",
   "execution_count": null,
   "id": "fa634267-1f6d-4832-8233-8a750519145c",
   "metadata": {},
   "outputs": [],
   "source": [
    "df.groupby('Region').Deaths.sum().sort_values(ascending = True)[0:5]"
   ]
  },
  {
   "cell_type": "markdown",
   "id": "f69946c1-97b0-4e5f-b5e3-e97fcd23a93d",
   "metadata": {},
   "source": [
    "#### sort the all data wrt no of Recoverded cases in decending order"
   ]
  },
  {
   "cell_type": "code",
   "execution_count": null,
   "id": "e1097eb8-1164-467a-a06d-9a94d66e7285",
   "metadata": {},
   "outputs": [],
   "source": [
    "df.head(1)"
   ]
  },
  {
   "cell_type": "code",
   "execution_count": null,
   "id": "43fc7a04-f3d6-4677-ba83-ab09dc4bc87b",
   "metadata": {},
   "outputs": [],
   "source": [
    "df.groupby('Region').Recovered.sum().sort_values(ascending = True).head(10)"
   ]
  },
  {
   "cell_type": "code",
   "execution_count": null,
   "id": "8df6afaa-61df-4e96-8931-65f86e0e8899",
   "metadata": {},
   "outputs": [],
   "source": []
  }
 ],
 "metadata": {
  "kernelspec": {
   "display_name": "Python 3 (ipykernel)",
   "language": "python",
   "name": "python3"
  },
  "language_info": {
   "codemirror_mode": {
    "name": "ipython",
    "version": 3
   },
   "file_extension": ".py",
   "mimetype": "text/x-python",
   "name": "python",
   "nbconvert_exporter": "python",
   "pygments_lexer": "ipython3",
   "version": "3.8.10"
  },
  "widgets": {
   "application/vnd.jupyter.widget-state+json": {
    "state": {},
    "version_major": 2,
    "version_minor": 0
   }
  }
 },
 "nbformat": 4,
 "nbformat_minor": 5
}
